{
 "cells": [
  {
   "cell_type": "markdown",
   "metadata": {},
   "source": [
    "Define the team to be used"
   ]
  },
  {
   "cell_type": "code",
   "execution_count": null,
   "metadata": {},
   "outputs": [],
   "source": [
    "my_team = \"\"\"\n",
    "Gallade-Mega (M) @ Galladite  \n",
    "Ability: Justified  \n",
    "EVs: 224 HP / 32 Atk / 252 Spe  \n",
    "Jolly Nature  \n",
    "- Swords Dance  \n",
    "- Shadow Sneak  \n",
    "- Psycho Cut  \n",
    "- Drain Punch  \n",
    "\n",
    "Serperior @ Chesto Berry  \n",
    "Ability: Contrary  \n",
    "EVs: 200 HP / 44 Def / 12 SpA / 252 Spe  \n",
    "Timid Nature  \n",
    "IVs: 1 Atk / 30 Def / 30 SpD / 30 Spe  \n",
    "- Rest  \n",
    "- Glare  \n",
    "- Hidden Power [Rock]  \n",
    "- Leaf Storm  \n",
    "\n",
    "Crawdaunt @ Life Orb  \n",
    "Ability: Adaptability  \n",
    "EVs: 252 Atk / 4 SpD / 252 Spe  \n",
    "Jolly Nature  \n",
    "- Swords Dance  \n",
    "- Aqua Jet  \n",
    "- Crabhammer  \n",
    "- Knock Off  \n",
    "\n",
    "Excadrill @ Leftovers  \n",
    "Ability: Mold Breaker  \n",
    "EVs: 128 Atk / 176 SpD / 204 Spe  \n",
    "Adamant Nature  \n",
    "- Rapid Spin  \n",
    "- Substitute  \n",
    "- Iron Head  \n",
    "- Earthquake  \n",
    "\n",
    "Zapdos @ Leftovers  \n",
    "Ability: Static  \n",
    "EVs: 248 HP / 236 Def / 24 Spe  \n",
    "Bold Nature  \n",
    "IVs: 0 Atk / 30 Def  \n",
    "- Roost  \n",
    "- Hidden Power [Ice]  \n",
    "- Heat Wave  \n",
    "- Volt Switch  \n",
    "\n",
    "Clefable @ Leftovers  \n",
    "Ability: Magic Guard  \n",
    "EVs: 248 HP / 200 Def / 56 SpD / 4 Spe  \n",
    "Calm Nature  \n",
    "IVs: 0 Atk  \n",
    "- Stealth Rock  \n",
    "- Soft-Boiled  \n",
    "- Healing Wish  \n",
    "- Moonblast  \n",
    "\"\"\""
   ]
  },
  {
   "cell_type": "markdown",
   "metadata": {},
   "source": [
    "Play against an opponent that makes random moves"
   ]
  },
  {
   "cell_type": "code",
   "execution_count": null,
   "metadata": {},
   "outputs": [],
   "source": [
    "import asyncio\n",
    "from poke_env.player import Player,RandomPlayer\n",
    "from poke_env.data import GenData\n",
    "from poke_env import AccountConfiguration, LocalhostServerConfiguration\n",
    "\n",
    "# The RandomPlayer is a basic agent that makes decisions randomly,\n",
    "# serving as a starting point for more complex agent development.\n",
    "random_player = RandomPlayer()\n",
    "\n",
    "#Create a toWait function\n",
    "async def toWait():\n",
    "    await asyncio.sleep(20)\n",
    "number_of_battles = 5\n",
    "player = RandomPlayer(\n",
    "        battle_format=\"gen6ou\",\n",
    "        team=my_team,\n",
    "        account_configuration=AccountConfiguration(\"testranod6969\", \"12345\"),\n",
    "        server_configuration=LocalhostServerConfiguration\n",
    "    )\n",
    "\n",
    "    # Sending challenges to 'your_username'\n",
    "for i in range(number_of_battles):\n",
    "    await player.send_challenges(\"randobot1234\", n_challenges=1)\n",
    "    await toWait()"
   ]
  },
  {
   "cell_type": "markdown",
   "metadata": {},
   "source": [
    "Get result of battles"
   ]
  },
  {
   "cell_type": "code",
   "execution_count": null,
   "metadata": {},
   "outputs": [],
   "source": [
    "# n_won_battles and n_finished_battles\n",
    "\n",
    "print(\n",
    "    f\"Player {player.username} won {player.n_won_battles} out of {player.n_finished_battles} played\"\n",
    ")\n",
    "\n",
    "\n",
    "# Looping over battles\n",
    "\n",
    "for battle_tag, battle in player.battles.items():\n",
    "    print(battle_tag, battle.won)"
   ]
  }
 ],
 "metadata": {
  "kernelspec": {
   "display_name": "base",
   "language": "python",
   "name": "python3"
  },
  "language_info": {
   "name": "python",
   "version": "3.11.5"
  }
 },
 "nbformat": 4,
 "nbformat_minor": 2
}
