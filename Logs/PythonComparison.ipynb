{
 "cells": [
  {
   "cell_type": "code",
   "execution_count": 2,
   "metadata": {},
   "outputs": [],
   "source": [
    "import matplotlib.pyplot as plt\n",
    "import numpy as np\n",
    "from scipy.stats import mannwhitneyu\n",
    "from scipy.stats import wilcoxon\n",
    "from scipy.stats import kruskal"
   ]
  },
  {
   "cell_type": "code",
   "execution_count": 3,
   "metadata": {},
   "outputs": [],
   "source": [
    "basicTime = np.array([31.674,12.725,7.886,13.81,12.659,13.192,9.136,8.918,9.656,7.632,8.568,6.249,5.841,6.028,5.049,4.929,27.456,22.426,53.995,33.844,8.729,8.588,20.706,14.301,8.227,7.961,8.101,8.153,5.631,5.972,4.881,8.101,4.12,4.267,32.151,18.137,18.126,5.198,5.25,10.91,10.369,20.257,12.026,6.95,7.974,33.828,22.708,22.286,14.916,34.042,19.621,33.28,33.219,19.712,16.6,25.043,28.142,11.205,7.033,12.66,10.986,12.63,8.518,8.817,8.732,7.129,7.105,7.65,8.522,5.29,5.34,4.896,3.794,24.593,48.004,25.839])\n",
    "transpositionTableTime = np.array([17.521,16.707,11.06,5.989,7.915,5.444,6.689,6.571,6.502,9.41,4.058,4.17,8.531,4.412,3.331,6.669,6.543,3.791,2.268,1.286,7.193,7.655,14.154,14.76,11.766,8.762,6.347,12.553,14.598,8.766,9.295,5.961,5.954,6.16,32.947,30.036,21.592,36.543,52.345,20.442,14.632,11.476,8.986,6.577,6.861,12.977,12.341,7.859,9.982,10.013,30.554,9.607,11.579,22.596,19.698,15.023,16.485,15.766,13.171,6.861,6.007,6.087,6.343,7.263,12.276,21.059,19.972,18.939,10.43,4.605,7.595,3.456,6.916,7.408,11.216,6.339,3.499,3.398,4.596,7.561,15.468,11.682,25.147,20.614,13.189])\n",
    "transpositionTableAndMoveOrderingTime = np.array([9.002,7.782,4.384,3.986,4.002,3.387,3.168,4.256,3.713,3.73,3.846,3.313,3.101,4.393,2.62,2.169,0.275,0.276,0.291,0.329,9.362,10.896,11.794,8.321,7.611,4.326,4.001,7.513,4.826,6.558,4.586,3.116,3.036,2.585,7.862,7.428,7.677,7.896,6.603,6.821,7.657,4.391,3.348,2.741,0.327,0.328,0.322,0.332,0.369,10.065,10.203,11.233,8.251,7.343,4.022,4.182,7.873,4.812,4.955,4.119,4.132,3.405,6.192,3.165,3.702,4.314,3.553,6.106,6.363,10.819,18.867,9.296,9.004,4.095,5.962,4.146,4.18,3.758,3.522,3.139,3.178,3.419,7.062,4.988,6.825,7.001,6.669,12.097,16.18,8.679,9.818,22.812,10.059,9.667,4.342,6.228,4.415,4.097,3.917,4.97,4.592,5.968,4.069,2.899,8.083,3.837,4.023,14.409,14.024,10.404,20.727,9.327,9.589,4.324,8.238,4.16,4.079,3.431,5.153,3.502,3.87,3.25,3.449,0.534,12.892,23.836,10.673,10.017,4.52,4.542,3.824,3.825,3.908,2.993,5.609,2.751,3.599,6.933,8.021,0.48,0.358,8.539,11.463,14.663,7.813,7.928,8.901,8.833,7.831,8.099,8.786,10.33,4.641,3.57,3.54,3.018,2.54,3.782,8.465,2.945,3.124,3.361,0.341,0.349,10.406,18.829,9.385,9.021,8.521,8.269,3.489,3.522,3.609,4.107,4.707,13.427,9.09,8.46,8.992,9.67,10.081,10.176,10.456,10.689,8.517,3.858,3.676,3.718,4.679,5.505,6.503,6.674,4.019,4.433,4.19,2.781])\n",
    "transpositionTableAndMoveOrderingTimeStochastic = np.array([15.363,38.448,11.778,10.195,15.9,16.908,10.74,10.79,4.63,12.261,8.506,9.678,9.487,9.98,4.904,8.858,4.825,11.862,6.544,3.887,5.277,4.905])\n",
    "#x = np.random.choice(x, 21, replace=False)    \n",
    "#x2 = np.random.choice(x2, 21, replace=False)"
   ]
  },
  {
   "cell_type": "code",
   "execution_count": 4,
   "metadata": {},
   "outputs": [
    {
     "data": {
      "text/plain": [
       "76"
      ]
     },
     "execution_count": 4,
     "metadata": {},
     "output_type": "execute_result"
    }
   ],
   "source": [
    "np.size(basicTime)"
   ]
  },
  {
   "cell_type": "code",
   "execution_count": 5,
   "metadata": {},
   "outputs": [
    {
     "data": {
      "text/plain": [
       "85"
      ]
     },
     "execution_count": 5,
     "metadata": {},
     "output_type": "execute_result"
    }
   ],
   "source": [
    "np.size(transpositionTableTime)"
   ]
  },
  {
   "cell_type": "code",
   "execution_count": 6,
   "metadata": {},
   "outputs": [
    {
     "data": {
      "text/plain": [
       "MannwhitneyuResult(statistic=2765.0, pvalue=0.05787011229927343)"
      ]
     },
     "execution_count": 6,
     "metadata": {},
     "output_type": "execute_result"
    }
   ],
   "source": [
    "mannwhitneyu(transpositionTableTime, basicTime, alternative='less')"
   ]
  },
  {
   "cell_type": "code",
   "execution_count": 6,
   "metadata": {},
   "outputs": [
    {
     "ename": "ValueError",
     "evalue": "The samples x and y must have the same length.",
     "output_type": "error",
     "traceback": [
      "\u001b[1;31m---------------------------------------------------------------------------\u001b[0m",
      "\u001b[1;31mValueError\u001b[0m                                Traceback (most recent call last)",
      "Cell \u001b[1;32mIn[6], line 1\u001b[0m\n\u001b[1;32m----> 1\u001b[0m wilcoxon(transpositionTableTime, basicTime, alternative\u001b[38;5;241m=\u001b[39m\u001b[38;5;124m'\u001b[39m\u001b[38;5;124mless\u001b[39m\u001b[38;5;124m'\u001b[39m)\n",
      "File \u001b[1;32mc:\\ProgramData\\anaconda3\\Lib\\site-packages\\scipy\\_lib\\_util.py:713\u001b[0m, in \u001b[0;36m_rename_parameter.<locals>.decorator.<locals>.wrapper\u001b[1;34m(*args, **kwargs)\u001b[0m\n\u001b[0;32m    711\u001b[0m         \u001b[38;5;28;01mraise\u001b[39;00m \u001b[38;5;167;01mTypeError\u001b[39;00m(message)\n\u001b[0;32m    712\u001b[0m     kwargs[new_name] \u001b[38;5;241m=\u001b[39m kwargs\u001b[38;5;241m.\u001b[39mpop(old_name)\n\u001b[1;32m--> 713\u001b[0m \u001b[38;5;28;01mreturn\u001b[39;00m fun(\u001b[38;5;241m*\u001b[39margs, \u001b[38;5;241m*\u001b[39m\u001b[38;5;241m*\u001b[39mkwargs)\n",
      "File \u001b[1;32mc:\\ProgramData\\anaconda3\\Lib\\site-packages\\scipy\\stats\\_axis_nan_policy.py:523\u001b[0m, in \u001b[0;36m_axis_nan_policy_factory.<locals>.axis_nan_policy_decorator.<locals>.axis_nan_policy_wrapper\u001b[1;34m(***failed resolving arguments***)\u001b[0m\n\u001b[0;32m    521\u001b[0m \u001b[38;5;28;01mif\u001b[39;00m sentinel:\n\u001b[0;32m    522\u001b[0m     samples \u001b[38;5;241m=\u001b[39m _remove_sentinel(samples, paired, sentinel)\n\u001b[1;32m--> 523\u001b[0m res \u001b[38;5;241m=\u001b[39m hypotest_fun_out(\u001b[38;5;241m*\u001b[39msamples, \u001b[38;5;241m*\u001b[39m\u001b[38;5;241m*\u001b[39mkwds)\n\u001b[0;32m    524\u001b[0m res \u001b[38;5;241m=\u001b[39m result_to_tuple(res)\n\u001b[0;32m    525\u001b[0m res \u001b[38;5;241m=\u001b[39m _add_reduced_axes(res, reduced_axes, keepdims)\n",
      "File \u001b[1;32mc:\\ProgramData\\anaconda3\\Lib\\site-packages\\scipy\\stats\\_morestats.py:4067\u001b[0m, in \u001b[0;36mwilcoxon\u001b[1;34m(x, y, zero_method, correction, alternative, method)\u001b[0m\n\u001b[0;32m   4065\u001b[0m     \u001b[38;5;28;01mraise\u001b[39;00m \u001b[38;5;167;01mValueError\u001b[39;00m(\u001b[38;5;124m'\u001b[39m\u001b[38;5;124mSamples x and y must be one-dimensional.\u001b[39m\u001b[38;5;124m'\u001b[39m)\n\u001b[0;32m   4066\u001b[0m \u001b[38;5;28;01mif\u001b[39;00m \u001b[38;5;28mlen\u001b[39m(x) \u001b[38;5;241m!=\u001b[39m \u001b[38;5;28mlen\u001b[39m(y):\n\u001b[1;32m-> 4067\u001b[0m     \u001b[38;5;28;01mraise\u001b[39;00m \u001b[38;5;167;01mValueError\u001b[39;00m(\u001b[38;5;124m'\u001b[39m\u001b[38;5;124mThe samples x and y must have the same length.\u001b[39m\u001b[38;5;124m'\u001b[39m)\n\u001b[0;32m   4068\u001b[0m \u001b[38;5;66;03m# Future enhancement: consider warning when elements of `d` appear to\u001b[39;00m\n\u001b[0;32m   4069\u001b[0m \u001b[38;5;66;03m# be tied but are numerically distinct.\u001b[39;00m\n\u001b[0;32m   4070\u001b[0m d \u001b[38;5;241m=\u001b[39m x \u001b[38;5;241m-\u001b[39m y\n",
      "\u001b[1;31mValueError\u001b[0m: The samples x and y must have the same length."
     ]
    }
   ],
   "source": [
    "wilcoxon(transpositionTableTime, basicTime, alternative='less')"
   ]
  },
  {
   "cell_type": "code",
   "execution_count": 10,
   "metadata": {},
   "outputs": [
    {
     "data": {
      "text/plain": [
       "MannwhitneyuResult(statistic=703.0, pvalue=0.1296253790043589)"
      ]
     },
     "execution_count": 10,
     "metadata": {},
     "output_type": "execute_result"
    }
   ],
   "source": [
    "mannwhitneyu(transpositionTableAndMoveOrderingTimeStochastic, basicTime, alternative='less')"
   ]
  },
  {
   "cell_type": "code",
   "execution_count": 8,
   "metadata": {},
   "outputs": [
    {
     "data": {
      "text/plain": [
       "KruskalResult(statistic=78.69796196700891, pvalue=8.146192909030974e-18)"
      ]
     },
     "execution_count": 8,
     "metadata": {},
     "output_type": "execute_result"
    }
   ],
   "source": [
    "kruskal(basicTime, transpositionTableTime, transpositionTableAndMoveOrderingTime)"
   ]
  }
 ],
 "metadata": {
  "kernelspec": {
   "display_name": "base",
   "language": "python",
   "name": "python3"
  },
  "language_info": {
   "codemirror_mode": {
    "name": "ipython",
    "version": 3
   },
   "file_extension": ".py",
   "mimetype": "text/x-python",
   "name": "python",
   "nbconvert_exporter": "python",
   "pygments_lexer": "ipython3",
   "version": "3.11.5"
  }
 },
 "nbformat": 4,
 "nbformat_minor": 2
}
