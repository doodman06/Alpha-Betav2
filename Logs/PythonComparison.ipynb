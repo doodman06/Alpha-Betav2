{
 "cells": [
  {
   "cell_type": "code",
   "execution_count": 33,
   "metadata": {},
   "outputs": [],
   "source": [
    "import matplotlib.pyplot as plt\n",
    "import numpy as np\n",
    "from scipy.stats import mannwhitneyu\n",
    "from scipy.stats import wilcoxon\n",
    "from scipy.stats import kruskal"
   ]
  },
  {
   "cell_type": "markdown",
   "metadata": {},
   "source": [
    "Import all time arrays from the txt files.\n",
    "Last element is removed as a time is always appended to the file with a comma at the end"
   ]
  },
  {
   "cell_type": "code",
   "execution_count": 44,
   "metadata": {},
   "outputs": [],
   "source": [
    "basicTime4Deterministic = np.genfromtxt('timeBasicDepth4Deterministictrue.txt', dtype=float, delimiter=',')[:-1]\n",
    "timeTranspostion4Deterministic = np.genfromtxt('timeTranspositionDepth4Deterministictrue.txt', dtype=float, delimiter=',')[:-1]\n",
    "timeMoveOrdering4Deterministic = np.genfromtxt('timeMoveOrderingDepth4Deterministictrue.txt', dtype=float, delimiter=',')[:-1]\n",
    "timeTranspostionMoveOrdering4Deterministic = np.genfromtxt('timeTranspositionMoveOrderingDepth4Deterministictrue.txt', dtype=float, delimiter=',')[:-1]\n",
    "timeTranspostionMoveOrdering4Stochastic = np.genfromtxt('timeTranspositionMoveOrderingDepth4Deterministicfalse.txt', dtype=float, delimiter=',')[:-1]\n",
    "basicTime4Stochastic = np.genfromtxt('timeBasicDepth4Deterministicfalse.txt', dtype=float, delimiter=',')[:-1]\n",
    "timeTranspostion4Stochastic = np.genfromtxt('timeTranspositionDepth4Deterministicfalse.txt', dtype=float, delimiter=',')[:-1]"
   ]
  },
  {
   "cell_type": "markdown",
   "metadata": {},
   "source": [
    "# Comparisons at Depth 4 Deterministic"
   ]
  },
  {
   "cell_type": "markdown",
   "metadata": {},
   "source": [
    "Using mann whitney u to compare various configurations\n",
    "We set an Alpha of 0.05 for this."
   ]
  },
  {
   "cell_type": "code",
   "execution_count": 64,
   "metadata": {},
   "outputs": [
    {
     "data": {
      "image/png": "[encoded data removed]",
      "text/plain": [
       "<Figure size 1200x350 with 1 Axes>"
      ]
     },
     "metadata": {},
     "output_type": "display_data"
    }
   ],
   "source": [
    "plt.figure()\n",
    "plt.boxplot([basicTime4Deterministic, timeTranspostion4Deterministic, timeMoveOrdering4Deterministic, timeTranspostionMoveOrdering4Deterministic, timeTranspostionMoveOrdering4Stochastic, basicTime4Stochastic, timeTranspostion4Stochastic],\n",
    "             labels=['Basic', 'Transposition', 'Move Ordering', 'Transposition and \\n Move Ordering', 'Transposition and \\n Move Ordering Stochastic', 'Basic Stochastic', 'Transposition Stochastic'])\n",
    "plt.ylabel('Time (s)')\n",
    "plt.title('Depth 4')\n",
    "plt.show()\n"
   ]
  },
  {
   "cell_type": "code",
   "execution_count": 35,
   "metadata": {},
   "outputs": [
    {
     "data": {
      "text/plain": [
       "MannwhitneyuResult(statistic=3062.0, pvalue=0.04325492467758234)"
      ]
     },
     "execution_count": 35,
     "metadata": {},
     "output_type": "execute_result"
    }
   ],
   "source": [
    "mannwhitneyu(timeTranspostion4Deterministic, basicTime4Deterministic, alternative='less')"
   ]
  },
  {
   "cell_type": "markdown",
   "metadata": {},
   "source": [
    "As p < Alpha we reject the null hypothesis and accept that using a transposition table in the case of a Depth of 4 and using a determinisitc simulation provides a statisticlly significant time improvement"
   ]
  },
  {
   "cell_type": "code",
   "execution_count": 36,
   "metadata": {},
   "outputs": [
    {
     "data": {
      "text/plain": [
       "MannwhitneyuResult(statistic=1378.0, pvalue=0.029023027895720352)"
      ]
     },
     "execution_count": 36,
     "metadata": {},
     "output_type": "execute_result"
    }
   ],
   "source": [
    "mannwhitneyu(timeMoveOrdering4Deterministic, basicTime4Deterministic, alternative='less')"
   ]
  },
  {
   "cell_type": "markdown",
   "metadata": {},
   "source": [
    "As p < Alpha we reject the null hypothesis and accept that using move ordering in the case of a Depth of 4 and using a determinisitc simulation provides a statisticlly significant time improvement"
   ]
  },
  {
   "cell_type": "code",
   "execution_count": 37,
   "metadata": {},
   "outputs": [
    {
     "data": {
      "text/plain": [
       "MannwhitneyuResult(statistic=4415.5, pvalue=1.5269142703794018e-10)"
      ]
     },
     "execution_count": 37,
     "metadata": {},
     "output_type": "execute_result"
    }
   ],
   "source": [
    "mannwhitneyu(timeTranspostionMoveOrdering4Deterministic, timeTranspostion4Deterministic, alternative='less')"
   ]
  },
  {
   "cell_type": "code",
   "execution_count": 38,
   "metadata": {},
   "outputs": [
    {
     "data": {
      "text/plain": [
       "MannwhitneyuResult(statistic=2148.0, pvalue=1.2249691427946014e-06)"
      ]
     },
     "execution_count": 38,
     "metadata": {},
     "output_type": "execute_result"
    }
   ],
   "source": [
    "mannwhitneyu(timeTranspostionMoveOrdering4Deterministic, timeMoveOrdering4Deterministic, alternative='less')"
   ]
  },
  {
   "cell_type": "markdown",
   "metadata": {},
   "source": [
    "As p < Alpha in both cases we reject the null hypthesis and accept that using both move ordering and a transposition table in the case of a Depth of 4 and using a deterministic simulaiton provides a statistically significant time improved over using either a transposition table or move ordering individually"
   ]
  },
  {
   "cell_type": "markdown",
   "metadata": {},
   "source": [
    "# Comparisons at Depth 4 Stochastic"
   ]
  },
  {
   "cell_type": "code",
   "execution_count": 43,
   "metadata": {},
   "outputs": [
    {
     "data": {
      "text/plain": [
       "MannwhitneyuResult(statistic=1927.0, pvalue=0.1477305936358206)"
      ]
     },
     "execution_count": 43,
     "metadata": {},
     "output_type": "execute_result"
    }
   ],
   "source": [
    "mannwhitneyu(basicTime4Stochastic, basicTime4Deterministic, alternative='two-sided')"
   ]
  },
  {
   "cell_type": "markdown",
   "metadata": {},
   "source": [
    "In comparing deterministic and stochastic simulation with all other settings equal using a two tailed hypothesis we see a p > Alpha and fail to reject to null hypothesis. This makes sense as including 'randomness' in the simulation should not be very computationally intensive."
   ]
  },
  {
   "cell_type": "code",
   "execution_count": 47,
   "metadata": {},
   "outputs": [
    {
     "data": {
      "text/plain": [
       "MannwhitneyuResult(statistic=517.0, pvalue=0.10920986290688317)"
      ]
     },
     "execution_count": 47,
     "metadata": {},
     "output_type": "execute_result"
    }
   ],
   "source": [
    "mannwhitneyu(timeTranspostion4Stochastic, basicTime4Stochastic, alternative='less')"
   ]
  },
  {
   "cell_type": "markdown",
   "metadata": {},
   "source": [
    "Maybe need more data but as of now p > Alpha so we fail to reject the null hypothesis and cannot determine if a transposition table provides a statistically significant time improvement"
   ]
  },
  {
   "cell_type": "code",
   "execution_count": 39,
   "metadata": {},
   "outputs": [
    {
     "data": {
      "text/plain": [
       "MannwhitneyuResult(statistic=1739.0, pvalue=0.5827979299914055)"
      ]
     },
     "execution_count": 39,
     "metadata": {},
     "output_type": "execute_result"
    }
   ],
   "source": [
    "mannwhitneyu(timeTranspostionMoveOrdering4Stochastic, basicTime4Deterministic, alternative='less')"
   ]
  },
  {
   "cell_type": "code",
   "execution_count": 40,
   "metadata": {},
   "outputs": [
    {
     "data": {
      "text/plain": [
       "KruskalResult(statistic=80.52902406027962, pvalue=3.2609535211215838e-18)"
      ]
     },
     "execution_count": 40,
     "metadata": {},
     "output_type": "execute_result"
    }
   ],
   "source": [
    "kruskal(basicTime4Deterministic, timeTranspostion4Deterministic, timeTranspostionMoveOrdering4Deterministic)"
   ]
  }
 ],
 "metadata": {
  "kernelspec": {
   "display_name": "base",
   "language": "python",
   "name": "python3"
  },
  "language_info": {
   "codemirror_mode": {
    "name": "ipython",
    "version": 3
   },
   "file_extension": ".py",
   "mimetype": "text/x-python",
   "name": "python",
   "nbconvert_exporter": "python",
   "pygments_lexer": "ipython3",
   "version": "3.11.5"
  }
 },
 "nbformat": 4,
 "nbformat_minor": 2
}
